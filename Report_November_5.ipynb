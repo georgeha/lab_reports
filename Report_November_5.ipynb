{
 "cells": [
  {
   "cell_type": "code",
   "execution_count": 6,
   "metadata": {},
   "outputs": [
    {
     "data": {
      "text/html": [
       "<style>.container { width:100% !important; }</style>"
      ],
      "text/plain": [
       "<IPython.core.display.HTML object>"
      ]
     },
     "metadata": {},
     "output_type": "display_data"
    }
   ],
   "source": [
    "import pandas as pd\n",
    "#%matplotlib notebook\n",
    "%matplotlib inline\n",
    "pd.set_option('display.float_format', lambda x: '%.3f' % x)\n",
    "import numpy as np\n",
    "import matplotlib.pyplot as plt\n",
    "\n",
    "import itertools  \n",
    "from IPython.core.display import display, HTML\n",
    "display(HTML(\"<style>.container { width:100% !important; }</style>\"))\n",
    "plt.style.use('ggplot')\n",
    "#import plotlib as pltme"
   ]
  },
  {
   "cell_type": "code",
   "execution_count": 8,
   "metadata": {},
   "outputs": [],
   "source": [
    "directory = '/home/georgeha/repos/midas_exps/streaming/k-means/rp-scikit/1-1-1/'"
   ]
  },
  {
   "cell_type": "markdown",
   "metadata": {
    "collapsed": true
   },
   "source": [
    "## 1-1-1   ( 1 node - 1 broker - 1 consumer)"
   ]
  },
  {
   "cell_type": "markdown",
   "metadata": {},
   "source": [
    "At this experiment I am running rp-scikit experiment on wrangler system, and I am producing/consumer 20000 messages. In this experiment I am using:\n",
    "- 1 kafka producer\n",
    "- 1 kafka broker\n",
    "- 1 rp-sckit consumer \n",
    "- each message is 8000 3-D points\n"
   ]
  },
  {
   "cell_type": "code",
   "execution_count": 12,
   "metadata": {},
   "outputs": [],
   "source": [
    "data = pd.read_csv(directory + 'rp-consumer/kmeans-kafka20171104-224950.csv')   "
   ]
  },
  {
   "cell_type": "code",
   "execution_count": 41,
   "metadata": {},
   "outputs": [],
   "source": [
    "#data  #kmeans-kafka: time to consumer message  \n",
    "       # kmeans-parsing: time to convert message to data . # kmeans-model-get: time to fetch the model from redis .\n",
    "       # kmeans-model-redis: time to compute . # time to put model back"
   ]
  },
  {
   "cell_type": "code",
   "execution_count": 16,
   "metadata": {},
   "outputs": [],
   "source": [
    "df=data.set_index(\"Operation\")\n"
   ]
  },
  {
   "cell_type": "code",
   "execution_count": 28,
   "metadata": {},
   "outputs": [],
   "source": [
    "kmeans_kafka = df.loc[\"kmeans-kafka\",\"Execution_time\"]\n",
    "kmeans_parsing = df.loc[\"kmeans-parsing\",\"Execution_time\"]\n",
    "kmeans_model_get =  df.loc[\"kmeans-model-get\",\"Execution_time\"]\n",
    "kmeans_model_redis = df.loc[\"kmeans-model-redis\",\"Execution_time\"]\n",
    "kmeans_model_put = df.loc[\"kmeans-model-put\",\"Execution_time\"]   # 36 messages\n"
   ]
  },
  {
   "cell_type": "code",
   "execution_count": 47,
   "metadata": {},
   "outputs": [
    {
     "data": {
      "text/html": [
       "<div>\n",
       "<style>\n",
       "    .dataframe thead tr:only-child th {\n",
       "        text-align: right;\n",
       "    }\n",
       "\n",
       "    .dataframe thead th {\n",
       "        text-align: left;\n",
       "    }\n",
       "\n",
       "    .dataframe tbody tr th {\n",
       "        vertical-align: top;\n",
       "    }\n",
       "</style>\n",
       "<table border=\"1\" class=\"dataframe\">\n",
       "  <thead>\n",
       "    <tr style=\"text-align: right;\">\n",
       "      <th></th>\n",
       "      <th>Number_points</th>\n",
       "      <th>Dimensions</th>\n",
       "      <th>Number_Centroids</th>\n",
       "      <th>Total_Number_Consumers</th>\n",
       "      <th>Execution_time</th>\n",
       "    </tr>\n",
       "    <tr>\n",
       "      <th>Operation</th>\n",
       "      <th></th>\n",
       "      <th></th>\n",
       "      <th></th>\n",
       "      <th></th>\n",
       "      <th></th>\n",
       "    </tr>\n",
       "  </thead>\n",
       "  <tbody>\n",
       "    <tr>\n",
       "      <th>kmeans-kafka</th>\n",
       "      <td>288000</td>\n",
       "      <td>108</td>\n",
       "      <td>360</td>\n",
       "      <td>36</td>\n",
       "      <td>0.034</td>\n",
       "    </tr>\n",
       "    <tr>\n",
       "      <th>kmeans-model-get</th>\n",
       "      <td>288000</td>\n",
       "      <td>108</td>\n",
       "      <td>360</td>\n",
       "      <td>36</td>\n",
       "      <td>0.075</td>\n",
       "    </tr>\n",
       "    <tr>\n",
       "      <th>kmeans-model-put</th>\n",
       "      <td>288000</td>\n",
       "      <td>108</td>\n",
       "      <td>360</td>\n",
       "      <td>36</td>\n",
       "      <td>0.145</td>\n",
       "    </tr>\n",
       "    <tr>\n",
       "      <th>kmeans-model-redis</th>\n",
       "      <td>288000</td>\n",
       "      <td>108</td>\n",
       "      <td>360</td>\n",
       "      <td>36</td>\n",
       "      <td>0.222</td>\n",
       "    </tr>\n",
       "    <tr>\n",
       "      <th>kmeans-parsing</th>\n",
       "      <td>288000</td>\n",
       "      <td>108</td>\n",
       "      <td>360</td>\n",
       "      <td>36</td>\n",
       "      <td>4.243</td>\n",
       "    </tr>\n",
       "  </tbody>\n",
       "</table>\n",
       "</div>"
      ],
      "text/plain": [
       "                    Number_points  Dimensions  Number_Centroids  \\\n",
       "Operation                                                         \n",
       "kmeans-kafka               288000         108               360   \n",
       "kmeans-model-get           288000         108               360   \n",
       "kmeans-model-put           288000         108               360   \n",
       "kmeans-model-redis         288000         108               360   \n",
       "kmeans-parsing             288000         108               360   \n",
       "\n",
       "                    Total_Number_Consumers  Execution_time  \n",
       "Operation                                                   \n",
       "kmeans-kafka                            36           0.034  \n",
       "kmeans-model-get                        36           0.075  \n",
       "kmeans-model-put                        36           0.145  \n",
       "kmeans-model-redis                      36           0.222  \n",
       "kmeans-parsing                          36           4.243  "
      ]
     },
     "execution_count": 47,
     "metadata": {},
     "output_type": "execute_result"
    }
   ],
   "source": [
    "data.groupby(['Operation']).sum()"
   ]
  },
  {
   "cell_type": "markdown",
   "metadata": {},
   "source": [
    "Algorithm:\n",
    "* Kafka is consuming messages \n",
    "* deserializing data\n",
    "* fetching kmeans model\n",
    "* processing data\n",
    "* saving kmeans model\n",
    "* loop\n",
    "\n",
    "This streaming method has a few differences compared to spark kmeans.\n",
    "* the above algorithm is sequencial which means that the processing has to finish in order to start fetching messages again.\n",
    "* It doensn't work with a window time. \n",
    "\n",
    "Decide how to measure the metrics in order to make these two systems comparable.\n"
   ]
  },
  {
   "cell_type": "markdown",
   "metadata": {},
   "source": [
    "## Image Reconstruction Algorithm"
   ]
  },
  {
   "cell_type": "markdown",
   "metadata": {},
   "source": [
    "In the previous report I changed the size of each image and calculated the ttc of reconstruction. The ttc was linearly increased p\n",
    "\n",
    "Experimental Plan:\n",
    "\n",
    "Create N number of Producers and N number of Consumers\n",
    "\n",
    "Algorithm:\n",
    "- Each kafka message should contain one image\n",
    "- Each image should be consumed and reconstructed by one consumer \n",
    "\n",
    "Measure:\n",
    "* throughput\n",
    "* through-in\n",
    "* processing time\n",
    "\n",
    "\n",
    "\n",
    "Questions:\n",
    "\n",
    "* which parameters of the image reconstruction algorithm should be modified? Which parameter is important?\n"
   ]
  },
  {
   "cell_type": "code",
   "execution_count": null,
   "metadata": {
    "collapsed": true
   },
   "outputs": [],
   "source": []
  }
 ],
 "metadata": {
  "kernelspec": {
   "display_name": "Python [conda root]",
   "language": "python",
   "name": "conda-root-py"
  },
  "language_info": {
   "codemirror_mode": {
    "name": "ipython",
    "version": 2
   },
   "file_extension": ".py",
   "mimetype": "text/x-python",
   "name": "python",
   "nbconvert_exporter": "python",
   "pygments_lexer": "ipython2",
   "version": "2.7.13"
  }
 },
 "nbformat": 4,
 "nbformat_minor": 2
}
