{
 "cells": [
  {
   "cell_type": "markdown",
   "metadata": {},
   "source": [
    "## Spark Model Plot"
   ]
  },
  {
   "cell_type": "code",
   "execution_count": 1,
   "metadata": {},
   "outputs": [
    {
     "data": {
      "text/html": [
       "<style>.container { width:100% !important; }</style>"
      ],
      "text/plain": [
       "<IPython.core.display.HTML object>"
      ]
     },
     "metadata": {},
     "output_type": "display_data"
    },
    {
     "data": {
      "text/html": [
       "\n",
       "    <div class=\"bk-root\">\n",
       "        <a href=\"http://bokeh.pydata.org\" target=\"_blank\" class=\"bk-logo bk-logo-small bk-logo-notebook\"></a>\n",
       "        <span id=\"a0e55c71-00cf-43d2-88f3-ff7fb49339a9\">Loading BokehJS ...</span>\n",
       "    </div>"
      ]
     },
     "metadata": {},
     "output_type": "display_data"
    },
    {
     "data": {
      "application/javascript": [
       "\n",
       "(function(global) {\n",
       "  function now() {\n",
       "    return new Date();\n",
       "  }\n",
       "\n",
       "  var force = true;\n",
       "\n",
       "  if (typeof (window._bokeh_onload_callbacks) === \"undefined\" || force === true) {\n",
       "    window._bokeh_onload_callbacks = [];\n",
       "    window._bokeh_is_loading = undefined;\n",
       "  }\n",
       "\n",
       "\n",
       "  \n",
       "  if (typeof (window._bokeh_timeout) === \"undefined\" || force === true) {\n",
       "    window._bokeh_timeout = Date.now() + 5000;\n",
       "    window._bokeh_failed_load = false;\n",
       "  }\n",
       "\n",
       "  var NB_LOAD_WARNING = {'data': {'text/html':\n",
       "     \"<div style='background-color: #fdd'>\\n\"+\n",
       "     \"<p>\\n\"+\n",
       "     \"BokehJS does not appear to have successfully loaded. If loading BokehJS from CDN, this \\n\"+\n",
       "     \"may be due to a slow or bad network connection. Possible fixes:\\n\"+\n",
       "     \"</p>\\n\"+\n",
       "     \"<ul>\\n\"+\n",
       "     \"<li>re-rerun `output_notebook()` to attempt to load from CDN again, or</li>\\n\"+\n",
       "     \"<li>use INLINE resources instead, as so:</li>\\n\"+\n",
       "     \"</ul>\\n\"+\n",
       "     \"<code>\\n\"+\n",
       "     \"from bokeh.resources import INLINE\\n\"+\n",
       "     \"output_notebook(resources=INLINE)\\n\"+\n",
       "     \"</code>\\n\"+\n",
       "     \"</div>\"}};\n",
       "\n",
       "  function display_loaded() {\n",
       "    if (window.Bokeh !== undefined) {\n",
       "      var el = document.getElementById(\"a0e55c71-00cf-43d2-88f3-ff7fb49339a9\");\n",
       "      el.textContent = \"BokehJS \" + Bokeh.version + \" successfully loaded.\";\n",
       "    } else if (Date.now() < window._bokeh_timeout) {\n",
       "      setTimeout(display_loaded, 100)\n",
       "    }\n",
       "  }\n",
       "\n",
       "  function run_callbacks() {\n",
       "    window._bokeh_onload_callbacks.forEach(function(callback) { callback() });\n",
       "    delete window._bokeh_onload_callbacks\n",
       "    console.info(\"Bokeh: all callbacks have finished\");\n",
       "  }\n",
       "\n",
       "  function load_libs(js_urls, callback) {\n",
       "    window._bokeh_onload_callbacks.push(callback);\n",
       "    if (window._bokeh_is_loading > 0) {\n",
       "      console.log(\"Bokeh: BokehJS is being loaded, scheduling callback at\", now());\n",
       "      return null;\n",
       "    }\n",
       "    if (js_urls == null || js_urls.length === 0) {\n",
       "      run_callbacks();\n",
       "      return null;\n",
       "    }\n",
       "    console.log(\"Bokeh: BokehJS not loaded, scheduling load and callback at\", now());\n",
       "    window._bokeh_is_loading = js_urls.length;\n",
       "    for (var i = 0; i < js_urls.length; i++) {\n",
       "      var url = js_urls[i];\n",
       "      var s = document.createElement('script');\n",
       "      s.src = url;\n",
       "      s.async = false;\n",
       "      s.onreadystatechange = s.onload = function() {\n",
       "        window._bokeh_is_loading--;\n",
       "        if (window._bokeh_is_loading === 0) {\n",
       "          console.log(\"Bokeh: all BokehJS libraries loaded\");\n",
       "          run_callbacks()\n",
       "        }\n",
       "      };\n",
       "      s.onerror = function() {\n",
       "        console.warn(\"failed to load library \" + url);\n",
       "      };\n",
       "      console.log(\"Bokeh: injecting script tag for BokehJS library: \", url);\n",
       "      document.getElementsByTagName(\"head\")[0].appendChild(s);\n",
       "    }\n",
       "  };var element = document.getElementById(\"a0e55c71-00cf-43d2-88f3-ff7fb49339a9\");\n",
       "  if (element == null) {\n",
       "    console.log(\"Bokeh: ERROR: autoload.js configured with elementid 'a0e55c71-00cf-43d2-88f3-ff7fb49339a9' but no matching script tag was found. \")\n",
       "    return false;\n",
       "  }\n",
       "\n",
       "  var js_urls = [\"https://cdn.pydata.org/bokeh/release/bokeh-0.12.5.min.js\", \"https://cdn.pydata.org/bokeh/release/bokeh-widgets-0.12.5.min.js\"];\n",
       "\n",
       "  var inline_js = [\n",
       "    function(Bokeh) {\n",
       "      Bokeh.set_log_level(\"info\");\n",
       "    },\n",
       "    \n",
       "    function(Bokeh) {\n",
       "      \n",
       "    },\n",
       "    \n",
       "    function(Bokeh) {\n",
       "      \n",
       "      document.getElementById(\"a0e55c71-00cf-43d2-88f3-ff7fb49339a9\").textContent = \"BokehJS is loading...\";\n",
       "    },\n",
       "    function(Bokeh) {\n",
       "      console.log(\"Bokeh: injecting CSS: https://cdn.pydata.org/bokeh/release/bokeh-0.12.5.min.css\");\n",
       "      Bokeh.embed.inject_css(\"https://cdn.pydata.org/bokeh/release/bokeh-0.12.5.min.css\");\n",
       "      console.log(\"Bokeh: injecting CSS: https://cdn.pydata.org/bokeh/release/bokeh-widgets-0.12.5.min.css\");\n",
       "      Bokeh.embed.inject_css(\"https://cdn.pydata.org/bokeh/release/bokeh-widgets-0.12.5.min.css\");\n",
       "    }\n",
       "  ];\n",
       "\n",
       "  function run_inline_js() {\n",
       "    \n",
       "    if ((window.Bokeh !== undefined) || (force === true)) {\n",
       "      for (var i = 0; i < inline_js.length; i++) {\n",
       "        inline_js[i](window.Bokeh);\n",
       "      }if (force === true) {\n",
       "        display_loaded();\n",
       "      }} else if (Date.now() < window._bokeh_timeout) {\n",
       "      setTimeout(run_inline_js, 100);\n",
       "    } else if (!window._bokeh_failed_load) {\n",
       "      console.log(\"Bokeh: BokehJS failed to load within specified timeout.\");\n",
       "      window._bokeh_failed_load = true;\n",
       "    } else if (force !== true) {\n",
       "      var cell = $(document.getElementById(\"a0e55c71-00cf-43d2-88f3-ff7fb49339a9\")).parents('.cell').data().cell;\n",
       "      cell.output_area.append_execute_result(NB_LOAD_WARNING)\n",
       "    }\n",
       "\n",
       "  }\n",
       "\n",
       "  if (window._bokeh_is_loading === 0) {\n",
       "    console.log(\"Bokeh: BokehJS loaded, going straight to plotting\");\n",
       "    run_inline_js();\n",
       "  } else {\n",
       "    load_libs(js_urls, function() {\n",
       "      console.log(\"Bokeh: BokehJS plotting callback run at\", now());\n",
       "      run_inline_js();\n",
       "    });\n",
       "  }\n",
       "}(this));"
      ]
     },
     "metadata": {},
     "output_type": "display_data"
    }
   ],
   "source": [
    "import pandas as pd\n",
    "#%matplotlib notebook\n",
    "%matplotlib inline\n",
    "pd.set_option('display.float_format', lambda x: '%.3f' % x)\n",
    "import numpy as np\n",
    "import matplotlib.pyplot as plt\n",
    "import dateutil\n",
    "import dateutil.parser\n",
    "import time\n",
    "\n",
    "\n",
    "from bokeh.plotting import figure, output_file\n",
    "from bokeh.charts import Bar, output_file, show\n",
    "import bokeh.plotting as bplt\n",
    "from bokeh.palettes import Dark2_5 as palette\n",
    "from bokeh.models import Label, Title\n",
    "import itertools  \n",
    "from bokeh.layouts import gridplot,row,column\n",
    "\n",
    "#from bokeh.io import hplot, output_file, show\n",
    "from bokeh.plotting import figure\n",
    "\n",
    "from IPython.core.display import display, HTML\n",
    "display(HTML(\"<style>.container { width:100% !important; }</style>\"))\n",
    "from bokeh.io import output_notebook\n",
    "plt.style.use('ggplot')\n",
    "#output_notebook()\n",
    "import plotlib as pltme"
   ]
  },
  {
   "cell_type": "code",
   "execution_count": 2,
   "metadata": {
    "collapsed": true
   },
   "outputs": [],
   "source": [
    "directory = '/home/georgeha/repos/midas_exps/streaming/k-means/spark/'\n",
    "directory = directory + '1-node/'"
   ]
  },
  {
   "cell_type": "code",
   "execution_count": 3,
   "metadata": {},
   "outputs": [
    {
     "data": {
      "text/html": [
       "\n",
       "\n",
       "    <div class=\"bk-root\">\n",
       "        <div class=\"bk-plotdiv\" id=\"73241212-418b-4e1a-9b54-50259ae57f82\"></div>\n",
       "    </div>\n",
       "<script type=\"text/javascript\">\n",
       "  \n",
       "  (function(global) {\n",
       "    function now() {\n",
       "      return new Date();\n",
       "    }\n",
       "  \n",
       "    var force = false;\n",
       "  \n",
       "    if (typeof (window._bokeh_onload_callbacks) === \"undefined\" || force === true) {\n",
       "      window._bokeh_onload_callbacks = [];\n",
       "      window._bokeh_is_loading = undefined;\n",
       "    }\n",
       "  \n",
       "  \n",
       "    \n",
       "    if (typeof (window._bokeh_timeout) === \"undefined\" || force === true) {\n",
       "      window._bokeh_timeout = Date.now() + 0;\n",
       "      window._bokeh_failed_load = false;\n",
       "    }\n",
       "  \n",
       "    var NB_LOAD_WARNING = {'data': {'text/html':\n",
       "       \"<div style='background-color: #fdd'>\\n\"+\n",
       "       \"<p>\\n\"+\n",
       "       \"BokehJS does not appear to have successfully loaded. If loading BokehJS from CDN, this \\n\"+\n",
       "       \"may be due to a slow or bad network connection. Possible fixes:\\n\"+\n",
       "       \"</p>\\n\"+\n",
       "       \"<ul>\\n\"+\n",
       "       \"<li>re-rerun `output_notebook()` to attempt to load from CDN again, or</li>\\n\"+\n",
       "       \"<li>use INLINE resources instead, as so:</li>\\n\"+\n",
       "       \"</ul>\\n\"+\n",
       "       \"<code>\\n\"+\n",
       "       \"from bokeh.resources import INLINE\\n\"+\n",
       "       \"output_notebook(resources=INLINE)\\n\"+\n",
       "       \"</code>\\n\"+\n",
       "       \"</div>\"}};\n",
       "  \n",
       "    function display_loaded() {\n",
       "      if (window.Bokeh !== undefined) {\n",
       "        var el = document.getElementById(\"73241212-418b-4e1a-9b54-50259ae57f82\");\n",
       "        el.textContent = \"BokehJS \" + Bokeh.version + \" successfully loaded.\";\n",
       "      } else if (Date.now() < window._bokeh_timeout) {\n",
       "        setTimeout(display_loaded, 100)\n",
       "      }\n",
       "    }\n",
       "  \n",
       "    function run_callbacks() {\n",
       "      window._bokeh_onload_callbacks.forEach(function(callback) { callback() });\n",
       "      delete window._bokeh_onload_callbacks\n",
       "      console.info(\"Bokeh: all callbacks have finished\");\n",
       "    }\n",
       "  \n",
       "    function load_libs(js_urls, callback) {\n",
       "      window._bokeh_onload_callbacks.push(callback);\n",
       "      if (window._bokeh_is_loading > 0) {\n",
       "        console.log(\"Bokeh: BokehJS is being loaded, scheduling callback at\", now());\n",
       "        return null;\n",
       "      }\n",
       "      if (js_urls == null || js_urls.length === 0) {\n",
       "        run_callbacks();\n",
       "        return null;\n",
       "      }\n",
       "      console.log(\"Bokeh: BokehJS not loaded, scheduling load and callback at\", now());\n",
       "      window._bokeh_is_loading = js_urls.length;\n",
       "      for (var i = 0; i < js_urls.length; i++) {\n",
       "        var url = js_urls[i];\n",
       "        var s = document.createElement('script');\n",
       "        s.src = url;\n",
       "        s.async = false;\n",
       "        s.onreadystatechange = s.onload = function() {\n",
       "          window._bokeh_is_loading--;\n",
       "          if (window._bokeh_is_loading === 0) {\n",
       "            console.log(\"Bokeh: all BokehJS libraries loaded\");\n",
       "            run_callbacks()\n",
       "          }\n",
       "        };\n",
       "        s.onerror = function() {\n",
       "          console.warn(\"failed to load library \" + url);\n",
       "        };\n",
       "        console.log(\"Bokeh: injecting script tag for BokehJS library: \", url);\n",
       "        document.getElementsByTagName(\"head\")[0].appendChild(s);\n",
       "      }\n",
       "    };var element = document.getElementById(\"73241212-418b-4e1a-9b54-50259ae57f82\");\n",
       "    if (element == null) {\n",
       "      console.log(\"Bokeh: ERROR: autoload.js configured with elementid '73241212-418b-4e1a-9b54-50259ae57f82' but no matching script tag was found. \")\n",
       "      return false;\n",
       "    }\n",
       "  \n",
       "    var js_urls = [];\n",
       "  \n",
       "    var inline_js = [\n",
       "      function(Bokeh) {\n",
       "        (function() {\n",
       "          var fn = function() {\n",
       "            var docs_json = {\"8c4bd090-cd5a-4c40-8027-9b4d10a06098\":{\"roots\":{\"references\":[{\"attributes\":{},\"id\":\"17164749-efea-45b3-afe2-6593b515b1f8\",\"type\":\"BasicTicker\"},{\"attributes\":{\"label\":{\"value\":\"Processing Time\"},\"renderers\":[{\"id\":\"5f43e942-6406-4dae-90a1-4db7b85f5d56\",\"type\":\"GlyphRenderer\"}]},\"id\":\"0d7e1ff9-7bb9-451f-a4fc-209cde48a21d\",\"type\":\"LegendItem\"},{\"attributes\":{\"callback\":null,\"column_names\":[\"x\",\"y\"],\"data\":{\"x\":[0,1,2,3,4,5,6,7,8,9,10,11,12,13,14,15,16,17,18,19,20,21,22,23,24,25,26,27,28,29,30,31,32,33,34,35,36,37,38,39,40,41,42,43,44,45,46,47,48,49,50,51,52,53,54,55,56,57,58,59,60,61,62,63,64,65,66,67,68,69,70,71,72,73,74,75,76,77,78,79,80,81,82,83,84,85,86,87,88,89,90,91,92,93,94,95,96,97,98,99,100,101,102,103,104,105,106,107],\"y\":[2,28,76,100,114,111,91,123,92,84,75,88,81,29,7,9,9,2,1,1,2,1,1,1,1,1,1,1,1,1,1,1,1,1,1,1,1,1,1,1,1,1,1,1,1,1,1,1,1,1,1,1,1,1,1,1,1,1,1,1,1,1,1,1,1,1,1,1,1,1,1,1,1,1,1,1,1,1,1,1,1,1,1,1,1,1,1,1,1,1,1,1,1,1,1,1,1,1,1,1,1,1,1,1,1,1,1,1]}},\"id\":\"451afeb5-6024-401e-a8ad-e455465b1a7e\",\"type\":\"ColumnDataSource\"},{\"attributes\":{},\"id\":\"ae742e04-5f3d-4fb1-93b9-94fea6ead9ef\",\"type\":\"BasicTicker\"},{\"attributes\":{\"plot\":{\"id\":\"2a5e6d73-c641-40b2-be1f-b9818beaeab5\",\"subtype\":\"Figure\",\"type\":\"Plot\"}},\"id\":\"51e1b89e-7c64-4895-8e92-b88a8986f369\",\"type\":\"PanTool\"},{\"attributes\":{\"overlay\":{\"id\":\"02881121-1773-4978-85a6-e6a4887bc4ec\",\"type\":\"BoxAnnotation\"},\"plot\":{\"id\":\"2a5e6d73-c641-40b2-be1f-b9818beaeab5\",\"subtype\":\"Figure\",\"type\":\"Plot\"}},\"id\":\"add8d84b-2d99-4560-934b-97996915481c\",\"type\":\"BoxZoomTool\"},{\"attributes\":{\"data_source\":{\"id\":\"451afeb5-6024-401e-a8ad-e455465b1a7e\",\"type\":\"ColumnDataSource\"},\"glyph\":{\"id\":\"0c129f69-156a-4f6c-8c54-e2eafd044c8a\",\"type\":\"Line\"},\"hover_glyph\":null,\"muted_glyph\":null,\"nonselection_glyph\":{\"id\":\"60b99cdd-c9e6-46f8-904c-fced2de01385\",\"type\":\"Line\"},\"selection_glyph\":null},\"id\":\"5f43e942-6406-4dae-90a1-4db7b85f5d56\",\"type\":\"GlyphRenderer\"},{\"attributes\":{\"line_color\":{\"value\":\"#1f77b4\"},\"line_width\":{\"value\":2},\"x\":{\"field\":\"x\"},\"y\":{\"field\":\"y\"}},\"id\":\"57034a23-702d-4432-a628-f9701b2af185\",\"type\":\"Line\"},{\"attributes\":{\"plot\":{\"id\":\"2a5e6d73-c641-40b2-be1f-b9818beaeab5\",\"subtype\":\"Figure\",\"type\":\"Plot\"}},\"id\":\"6d5eec59-745b-4be6-8419-cd6cd5fcddf2\",\"type\":\"WheelZoomTool\"},{\"attributes\":{\"callback\":null,\"column_names\":[\"y\",\"x\"],\"data\":{\"x\":[0,1,2,3,4,5,6,7,8,9,10,11,12,13,14,15,16,17,18,19,20,21,22,23,24,25,26,27,28,29,30,31,32,33,34,35,36,37,38,39,40,41,42,43,44,45,46,47,48,49,50,51,52,53,54,55,56,57,58,59,60,61,62,63,64,65,66,67,68,69,70,71,72,73,74,75,76,77,78,79,80,81,82,83,84,85,86,87,88,89,90,91,92,93,94,95,96,97,98,99,100,101,102,103,104,105,106,107],\"y\":[2,28,76,100,142,207,238,299,337,363,349,371,395,401,370,294,263,221,152,105,47,1,1,1,1,1,1,1,1,1,1,1,1,1,1,1,1,1,1,1,1,1,1,1,1,1,1,1,1,1,1,1,1,1,1,1,1,1,1,1,1,1,1,1,1,1,1,1,1,1,1,1,1,1,1,1,1,1,1,1,1,1,1,1,1,1,1,1,1,1,1,1,1,1,1,1,1,1,1,1,1,1,1,1,1,1,1,1]}},\"id\":\"5a92702f-2210-43c2-997d-d2b78156f903\",\"type\":\"ColumnDataSource\"},{\"attributes\":{\"plot\":{\"id\":\"2a5e6d73-c641-40b2-be1f-b9818beaeab5\",\"subtype\":\"Figure\",\"type\":\"Plot\"}},\"id\":\"a3804fb9-280d-4fe9-b26a-9c15565ae00a\",\"type\":\"HelpTool\"},{\"attributes\":{\"below\":[{\"id\":\"cf902b06-d08c-4084-8d24-9995de16e4f7\",\"type\":\"LinearAxis\"}],\"left\":[{\"id\":\"5a0dbe6a-a599-4687-9797-7c809d831a12\",\"type\":\"LinearAxis\"}],\"renderers\":[{\"id\":\"cf902b06-d08c-4084-8d24-9995de16e4f7\",\"type\":\"LinearAxis\"},{\"id\":\"e68c857b-6df8-4e66-afe7-14334e4a587c\",\"type\":\"Grid\"},{\"id\":\"5a0dbe6a-a599-4687-9797-7c809d831a12\",\"type\":\"LinearAxis\"},{\"id\":\"b4273f32-fe70-4b88-a759-d78324199f8f\",\"type\":\"Grid\"},{\"id\":\"02881121-1773-4978-85a6-e6a4887bc4ec\",\"type\":\"BoxAnnotation\"},{\"id\":\"2799b452-58cb-44ca-a786-c1e4b800c708\",\"type\":\"Legend\"},{\"id\":\"7c2a402e-462f-43d4-8e1c-9dc575adfaaa\",\"type\":\"GlyphRenderer\"},{\"id\":\"8e8c8185-5a3a-4d80-99ea-4c9565a426a1\",\"type\":\"GlyphRenderer\"},{\"id\":\"5f43e942-6406-4dae-90a1-4db7b85f5d56\",\"type\":\"GlyphRenderer\"}],\"title\":{\"id\":\"251bd3d5-08ba-4bc1-b083-bd12f50251ec\",\"type\":\"Title\"},\"tool_events\":{\"id\":\"5f4fb559-1043-4939-a1b9-e5b86b216485\",\"type\":\"ToolEvents\"},\"toolbar\":{\"id\":\"23fca40d-e47f-45f5-bf7a-2eac0d0d91aa\",\"type\":\"Toolbar\"},\"x_range\":{\"id\":\"d6896b30-a0ef-4272-9209-23fcf9cb3e2e\",\"type\":\"DataRange1d\"},\"y_range\":{\"id\":\"aaa6647d-d4d6-424f-a570-d0492ab81ab1\",\"type\":\"DataRange1d\"}},\"id\":\"2a5e6d73-c641-40b2-be1f-b9818beaeab5\",\"subtype\":\"Figure\",\"type\":\"Plot\"},{\"attributes\":{\"data_source\":{\"id\":\"5a92702f-2210-43c2-997d-d2b78156f903\",\"type\":\"ColumnDataSource\"},\"glyph\":{\"id\":\"57034a23-702d-4432-a628-f9701b2af185\",\"type\":\"Line\"},\"hover_glyph\":null,\"muted_glyph\":null,\"nonselection_glyph\":{\"id\":\"f414e5a3-df50-441f-b29b-7e02bee9a047\",\"type\":\"Line\"},\"selection_glyph\":null},\"id\":\"8e8c8185-5a3a-4d80-99ea-4c9565a426a1\",\"type\":\"GlyphRenderer\"},{\"attributes\":{\"axis_label\":\"Delay in sec\",\"formatter\":{\"id\":\"bd89f2b7-6df6-40a5-b13c-d763a8f6fa83\",\"type\":\"BasicTickFormatter\"},\"plot\":{\"id\":\"2a5e6d73-c641-40b2-be1f-b9818beaeab5\",\"subtype\":\"Figure\",\"type\":\"Plot\"},\"ticker\":{\"id\":\"17164749-efea-45b3-afe2-6593b515b1f8\",\"type\":\"BasicTicker\"}},\"id\":\"5a0dbe6a-a599-4687-9797-7c809d831a12\",\"type\":\"LinearAxis\"},{\"attributes\":{\"data_source\":{\"id\":\"8202b274-b078-46a3-b6e4-5a9341df2d24\",\"type\":\"ColumnDataSource\"},\"glyph\":{\"id\":\"ea5e55c4-6f9a-43b6-a657-05f7685d8c28\",\"type\":\"Line\"},\"hover_glyph\":null,\"muted_glyph\":null,\"nonselection_glyph\":{\"id\":\"4acce2e9-a22c-4e6f-a1ea-a0e38363823a\",\"type\":\"Line\"},\"selection_glyph\":null},\"id\":\"7c2a402e-462f-43d4-8e1c-9dc575adfaaa\",\"type\":\"GlyphRenderer\"},{\"attributes\":{\"axis_label\":\"miniBatch Number\",\"formatter\":{\"id\":\"07e5f07a-a709-457e-80de-79aa9a486751\",\"type\":\"BasicTickFormatter\"},\"plot\":{\"id\":\"2a5e6d73-c641-40b2-be1f-b9818beaeab5\",\"subtype\":\"Figure\",\"type\":\"Plot\"},\"ticker\":{\"id\":\"ae742e04-5f3d-4fb1-93b9-94fea6ead9ef\",\"type\":\"BasicTicker\"}},\"id\":\"cf902b06-d08c-4084-8d24-9995de16e4f7\",\"type\":\"LinearAxis\"},{\"attributes\":{\"line_alpha\":{\"value\":0.1},\"line_color\":{\"value\":\"#1f77b4\"},\"line_width\":{\"value\":2},\"x\":{\"field\":\"x\"},\"y\":{\"field\":\"y\"}},\"id\":\"f414e5a3-df50-441f-b29b-7e02bee9a047\",\"type\":\"Line\"},{\"attributes\":{\"callback\":null},\"id\":\"aaa6647d-d4d6-424f-a570-d0492ab81ab1\",\"type\":\"DataRange1d\"},{\"attributes\":{\"plot\":{\"id\":\"2a5e6d73-c641-40b2-be1f-b9818beaeab5\",\"subtype\":\"Figure\",\"type\":\"Plot\"},\"ticker\":{\"id\":\"ae742e04-5f3d-4fb1-93b9-94fea6ead9ef\",\"type\":\"BasicTicker\"}},\"id\":\"e68c857b-6df8-4e66-afe7-14334e4a587c\",\"type\":\"Grid\"},{\"attributes\":{\"label\":{\"value\":\"Scheduling Delay\"},\"renderers\":[{\"id\":\"7c2a402e-462f-43d4-8e1c-9dc575adfaaa\",\"type\":\"GlyphRenderer\"}]},\"id\":\"ad07dfc3-012f-4d16-955d-1c273568009f\",\"type\":\"LegendItem\"},{\"attributes\":{\"bottom_units\":\"screen\",\"fill_alpha\":{\"value\":0.5},\"fill_color\":{\"value\":\"lightgrey\"},\"left_units\":\"screen\",\"level\":\"overlay\",\"line_alpha\":{\"value\":1.0},\"line_color\":{\"value\":\"black\"},\"line_dash\":[4,4],\"line_width\":{\"value\":2},\"plot\":null,\"render_mode\":\"css\",\"right_units\":\"screen\",\"top_units\":\"screen\"},\"id\":\"02881121-1773-4978-85a6-e6a4887bc4ec\",\"type\":\"BoxAnnotation\"},{\"attributes\":{\"active_drag\":\"auto\",\"active_scroll\":\"auto\",\"active_tap\":\"auto\",\"tools\":[{\"id\":\"51e1b89e-7c64-4895-8e92-b88a8986f369\",\"type\":\"PanTool\"},{\"id\":\"6d5eec59-745b-4be6-8419-cd6cd5fcddf2\",\"type\":\"WheelZoomTool\"},{\"id\":\"add8d84b-2d99-4560-934b-97996915481c\",\"type\":\"BoxZoomTool\"},{\"id\":\"5e5bca2f-10b9-49a4-b7d9-75902bfd281c\",\"type\":\"SaveTool\"},{\"id\":\"8be8bde0-f72b-4683-b224-2d2fd76eac66\",\"type\":\"ResetTool\"},{\"id\":\"a3804fb9-280d-4fe9-b26a-9c15565ae00a\",\"type\":\"HelpTool\"}]},\"id\":\"23fca40d-e47f-45f5-bf7a-2eac0d0d91aa\",\"type\":\"Toolbar\"},{\"attributes\":{\"line_alpha\":{\"value\":0.1},\"line_color\":{\"value\":\"#1f77b4\"},\"line_width\":{\"value\":2},\"x\":{\"field\":\"x\"},\"y\":{\"field\":\"y\"}},\"id\":\"4acce2e9-a22c-4e6f-a1ea-a0e38363823a\",\"type\":\"Line\"},{\"attributes\":{\"line_color\":{\"value\":\"red\"},\"line_width\":{\"value\":2},\"x\":{\"field\":\"x\"},\"y\":{\"field\":\"y\"}},\"id\":\"ea5e55c4-6f9a-43b6-a657-05f7685d8c28\",\"type\":\"Line\"},{\"attributes\":{\"label\":{\"value\":\"Total Delay\"},\"renderers\":[{\"id\":\"8e8c8185-5a3a-4d80-99ea-4c9565a426a1\",\"type\":\"GlyphRenderer\"}]},\"id\":\"db3289ee-5502-4168-ba9a-550a02619539\",\"type\":\"LegendItem\"},{\"attributes\":{\"plot\":null,\"text\":\"Figure 1: Spark Scheduling delay title\"},\"id\":\"251bd3d5-08ba-4bc1-b083-bd12f50251ec\",\"type\":\"Title\"},{\"attributes\":{\"plot\":{\"id\":\"2a5e6d73-c641-40b2-be1f-b9818beaeab5\",\"subtype\":\"Figure\",\"type\":\"Plot\"}},\"id\":\"8be8bde0-f72b-4683-b224-2d2fd76eac66\",\"type\":\"ResetTool\"},{\"attributes\":{\"items\":[{\"id\":\"ad07dfc3-012f-4d16-955d-1c273568009f\",\"type\":\"LegendItem\"},{\"id\":\"db3289ee-5502-4168-ba9a-550a02619539\",\"type\":\"LegendItem\"},{\"id\":\"0d7e1ff9-7bb9-451f-a4fc-209cde48a21d\",\"type\":\"LegendItem\"}],\"plot\":{\"id\":\"2a5e6d73-c641-40b2-be1f-b9818beaeab5\",\"subtype\":\"Figure\",\"type\":\"Plot\"}},\"id\":\"2799b452-58cb-44ca-a786-c1e4b800c708\",\"type\":\"Legend\"},{\"attributes\":{\"callback\":null,\"column_names\":[\"x\",\"y\"],\"data\":{\"x\":[0,1,2,3,4,5,6,7,8,9,10,11,12,13,14,15,16,17,18,19,20,21,22,23,24,25,26,27,28,29,30,31,32,33,34,35,36,37,38,39,40,41,42,43,44,45,46,47,48,49,50,51,52,53,54,55,56,57,58,59,60,61,62,63,64,65,66,67,68,69,70,71,72,73,74,75,76,77,78,79,80,81,82,83,84,85,86,87,88,89,90,91,92,93,94,95,96,97,98,99,100,101,102,103,104,105,106,107],\"y\":[0,0,0,0,28,96,147,176,245,279,274,283,314,372,363,285,254,219,151,104,45,0,0,0,0,0,0,0,0,0,0,0,0,0,0,0,0,0,0,0,0,0,0,0,0,0,0,0,0,0,0,0,0,0,0,0,0,0,0,0,0,0,0,0,0,0,0,0,0,0,0,0,0,0,0,0,0,0,0,0,0,0,0,0,0,0,0,0,0,0,0,0,0,0,0,0,0,0,0,0,0,0,0,0,0,0,0,0]}},\"id\":\"8202b274-b078-46a3-b6e4-5a9341df2d24\",\"type\":\"ColumnDataSource\"},{\"attributes\":{\"line_alpha\":{\"value\":0.1},\"line_color\":{\"value\":\"#1f77b4\"},\"line_width\":{\"value\":2},\"x\":{\"field\":\"x\"},\"y\":{\"field\":\"y\"}},\"id\":\"60b99cdd-c9e6-46f8-904c-fced2de01385\",\"type\":\"Line\"},{\"attributes\":{},\"id\":\"5f4fb559-1043-4939-a1b9-e5b86b216485\",\"type\":\"ToolEvents\"},{\"attributes\":{\"callback\":null},\"id\":\"d6896b30-a0ef-4272-9209-23fcf9cb3e2e\",\"type\":\"DataRange1d\"},{\"attributes\":{\"plot\":{\"id\":\"2a5e6d73-c641-40b2-be1f-b9818beaeab5\",\"subtype\":\"Figure\",\"type\":\"Plot\"}},\"id\":\"5e5bca2f-10b9-49a4-b7d9-75902bfd281c\",\"type\":\"SaveTool\"},{\"attributes\":{},\"id\":\"07e5f07a-a709-457e-80de-79aa9a486751\",\"type\":\"BasicTickFormatter\"},{\"attributes\":{\"line_color\":{\"value\":\"green\"},\"line_width\":{\"value\":2},\"x\":{\"field\":\"x\"},\"y\":{\"field\":\"y\"}},\"id\":\"0c129f69-156a-4f6c-8c54-e2eafd044c8a\",\"type\":\"Line\"},{\"attributes\":{},\"id\":\"bd89f2b7-6df6-40a5-b13c-d763a8f6fa83\",\"type\":\"BasicTickFormatter\"},{\"attributes\":{\"dimension\":1,\"plot\":{\"id\":\"2a5e6d73-c641-40b2-be1f-b9818beaeab5\",\"subtype\":\"Figure\",\"type\":\"Plot\"},\"ticker\":{\"id\":\"17164749-efea-45b3-afe2-6593b515b1f8\",\"type\":\"BasicTicker\"}},\"id\":\"b4273f32-fe70-4b88-a759-d78324199f8f\",\"type\":\"Grid\"}],\"root_ids\":[\"2a5e6d73-c641-40b2-be1f-b9818beaeab5\"]},\"title\":\"Bokeh Application\",\"version\":\"0.12.5\"}};\n",
       "            var render_items = [{\"docid\":\"8c4bd090-cd5a-4c40-8027-9b4d10a06098\",\"elementid\":\"73241212-418b-4e1a-9b54-50259ae57f82\",\"modelid\":\"2a5e6d73-c641-40b2-be1f-b9818beaeab5\"}];\n",
       "            \n",
       "            Bokeh.embed.embed_items(docs_json, render_items);\n",
       "          };\n",
       "          if (document.readyState != \"loading\") fn();\n",
       "          else document.addEventListener(\"DOMContentLoaded\", fn);\n",
       "        })();\n",
       "      },\n",
       "      function(Bokeh) {\n",
       "      }\n",
       "    ];\n",
       "  \n",
       "    function run_inline_js() {\n",
       "      \n",
       "      if ((window.Bokeh !== undefined) || (force === true)) {\n",
       "        for (var i = 0; i < inline_js.length; i++) {\n",
       "          inline_js[i](window.Bokeh);\n",
       "        }if (force === true) {\n",
       "          display_loaded();\n",
       "        }} else if (Date.now() < window._bokeh_timeout) {\n",
       "        setTimeout(run_inline_js, 100);\n",
       "      } else if (!window._bokeh_failed_load) {\n",
       "        console.log(\"Bokeh: BokehJS failed to load within specified timeout.\");\n",
       "        window._bokeh_failed_load = true;\n",
       "      } else if (force !== true) {\n",
       "        var cell = $(document.getElementById(\"73241212-418b-4e1a-9b54-50259ae57f82\")).parents('.cell').data().cell;\n",
       "        cell.output_area.append_execute_result(NB_LOAD_WARNING)\n",
       "      }\n",
       "  \n",
       "    }\n",
       "  \n",
       "    if (window._bokeh_is_loading === 0) {\n",
       "      console.log(\"Bokeh: BokehJS loaded, going straight to plotting\");\n",
       "      run_inline_js();\n",
       "    } else {\n",
       "      load_libs(js_urls, function() {\n",
       "        console.log(\"Bokeh: BokehJS plotting callback run at\", now());\n",
       "        run_inline_js();\n",
       "      });\n",
       "    }\n",
       "  }(this));\n",
       "</script>"
      ]
     },
     "metadata": {},
     "output_type": "display_data"
    },
    {
     "name": "stdout",
     "output_type": "stream",
     "text": [
      " Through-in rate is: 174 Records/sec \n"
     ]
    }
   ],
   "source": [
    "#throughput_p812_1 = producer_throughtput_per_mini_batch(adir,dataset)  # record per seconds\n",
    "## all producers\n",
    "producers = '8-1-2-new-settings/producers/'\n",
    "adir = '/home/georgeha/repos/midas_exps/streaming/k-means/spark/1-node/8-1-2-new-settings/producers/'\n",
    "dataset =  pltme.find_producers_file(adir)\n",
    "\n",
    "throughput_p812_1 = pltme.producer_throughtput_per_mini_batch(adir,dataset)  # record per seconds\n",
    "throughin_812 = pltme.plot_throughput_per_mini_batch('8-1-2-new-settings/spark-metrics-20171107-234051.csv',1,showPlot=False)\n",
    "processing_time_812 =  pltme.plot_scheduling_and_Total_Delay('8-1-2-new-settings/spark-metrics-20171107-234051.csv',1,'title',showPlot=True)\n",
    "processing_records_per_second_per_batch_812 = pltme.rec_per_sec(processing_time_812,throughin_812)\n",
    "average_record_throughin = pltme.find_total_consumer_throughin('8-1-2-new-settings/spark-metrics-20171107-234051.csv',17*60)  #5400\n",
    "print ' Through-in rate is: %d Records/sec ' % average_record_throughin\n",
    "\n",
    "## all producers\n",
    "producers = '8-1-2-new-settings/producers/'\n",
    "adir = '/home/georgeha/repos/midas_exps/streaming/k-means/spark/1-node/8-1-2-new-settings/producers/'\n",
    "dataset =  pltme.find_producers_file(adir)\n",
    "avg_production_rate_812 = pltme.find_total_producer_throughput(producers,dataset,950,False,'')"
   ]
  },
  {
   "cell_type": "code",
   "execution_count": 38,
   "metadata": {},
   "outputs": [],
   "source": [
    "avg_throughput_p_812 = sum(throughput_p812_1[1])/len(throughput_p812_1[1])\n",
    "std_throughput_p_812 = np.std(throughput_p812_1[1])"
   ]
  },
  {
   "cell_type": "code",
   "execution_count": 151,
   "metadata": {},
   "outputs": [
    {
     "data": {
      "text/plain": [
       "(14.268136673521845, 27.598529993144822)"
      ]
     },
     "execution_count": 151,
     "metadata": {},
     "output_type": "execute_result"
    }
   ],
   "source": [
    "from scipy import stats\n",
    "mean, sigma = np.mean(throughput_p812_1[1]), np.std(throughput_p812_1[1])\n",
    "\n",
    "\n",
    "stats.norm.interval(0.45, loc=mean, scale=sigma)\n"
   ]
  },
  {
   "cell_type": "code",
   "execution_count": 102,
   "metadata": {},
   "outputs": [
    {
     "data": {
      "text/plain": [
       "(18.128867670650223, 23.737798996016444)"
      ]
     },
     "execution_count": 102,
     "metadata": {},
     "output_type": "execute_result"
    }
   ],
   "source": [
    "stats.norm.interval(0.67, loc=mean, scale=sigma/np.sqrt(len(throughput_p812_1[1])))\n"
   ]
  },
  {
   "cell_type": "code",
   "execution_count": 42,
   "metadata": {},
   "outputs": [
    {
     "data": {
      "text/plain": [
       "(array([  3.,   1.,   0.,   0.,   0.,   0.,   0.,   1.,   0.,  10.]),\n",
       " array([  2. ,   4.7,   7.4,  10.1,  12.8,  15.5,  18.2,  20.9,  23.6,\n",
       "         26.3,  29. ]),\n",
       " <a list of 10 Patch objects>)"
      ]
     },
     "execution_count": 42,
     "metadata": {},
     "output_type": "execute_result"
    },
    {
     "data": {
      "image/png": "[encoded data removed]",
      "text/plain": [
       "<matplotlib.figure.Figure at 0x7f596098bad0>"
      ]
     },
     "metadata": {},
     "output_type": "display_data"
    }
   ],
   "source": [
    "plt.hist(throughput_p812_1[1])"
   ]
  },
  {
   "cell_type": "code",
   "execution_count": 198,
   "metadata": {},
   "outputs": [
    {
     "data": {
      "text/plain": [
       "<matplotlib.text.Text at 0x7f59533d1590>"
      ]
     },
     "execution_count": 198,
     "metadata": {},
     "output_type": "execute_result"
    },
    {
     "data": {
      "image/png": "[encoded data removed]",
      "text/plain": [
       "<matplotlib.figure.Figure at 0x7f595272afd0>"
      ]
     },
     "metadata": {},
     "output_type": "display_data"
    }
   ],
   "source": [
    "objects = ('Producer-8-1-2')\n",
    "x_pos = np.arange(len(objects))\n",
    "x_pos=1\n",
    "\n",
    "plt.bar(x_pos,avg_throughput_p_812,align='center')\n",
    "\n",
    "plt.title(\"Spark streaming k-means model\")\n"
   ]
  },
  {
   "cell_type": "code",
   "execution_count": 24,
   "metadata": {},
   "outputs": [
    {
     "data": {
      "text/plain": [
       "<matplotlib.text.Text at 0x7f59644bd450>"
      ]
     },
     "execution_count": 24,
     "metadata": {},
     "output_type": "execute_result"
    },
    {
     "data": {
      "image/png": "[encoded data removed]",
      "text/plain": [
       "<matplotlib.figure.Figure at 0x7f59645dab50>"
      ]
     },
     "metadata": {},
     "output_type": "display_data"
    }
   ],
   "source": [
    " \n",
    "objects = ('Python', 'C++', 'Java', 'Perl', 'Scala', 'Lisp')\n",
    "y_pos = np.arange(len(objects))\n",
    "performance = [10,8,6,4,2,1]\n",
    " \n",
    "plt.bar(y_pos, performance, align='center', alpha=0.5)\n",
    "plt.xticks(y_pos, objects)\n",
    "plt.ylabel('Usage')\n",
    "plt.title('Programming language usage')\n",
    " \n"
   ]
  },
  {
   "cell_type": "code",
   "execution_count": 25,
   "metadata": {},
   "outputs": [
    {
     "data": {
      "text/plain": [
       "array([0, 1, 2, 3, 4, 5])"
      ]
     },
     "execution_count": 25,
     "metadata": {},
     "output_type": "execute_result"
    }
   ],
   "source": [
    "y_pos"
   ]
  },
  {
   "cell_type": "code",
   "execution_count": 30,
   "metadata": {},
   "outputs": [
    {
     "data": {
      "text/plain": [
       "array([ 0,  1,  2,  3,  4,  5,  6,  7,  8,  9, 10, 11, 12, 13])"
      ]
     },
     "execution_count": 30,
     "metadata": {},
     "output_type": "execute_result"
    }
   ],
   "source": [
    "x_pos"
   ]
  },
  {
   "cell_type": "code",
   "execution_count": 32,
   "metadata": {},
   "outputs": [
    {
     "data": {
      "text/plain": [
       "'Producer-8-1-2'"
      ]
     },
     "execution_count": 32,
     "metadata": {},
     "output_type": "execute_result"
    }
   ],
   "source": [
    "objects"
   ]
  },
  {
   "cell_type": "code",
   "execution_count": 53,
   "metadata": {},
   "outputs": [
    {
     "data": {
      "text/plain": [
       "15"
      ]
     },
     "execution_count": 53,
     "metadata": {},
     "output_type": "execute_result"
    }
   ],
   "source": [
    "values.shape[0]"
   ]
  },
  {
   "cell_type": "code",
   "execution_count": 61,
   "metadata": {},
   "outputs": [],
   "source": [
    "aa = pd.read_csv(directory + '8-1-2-new-settings/spark-metrics-20171107-234051.csv')"
   ]
  },
  {
   "cell_type": "code",
   "execution_count": 78,
   "metadata": {},
   "outputs": [],
   "source": [
    "aa = pd.read_csv('test.csv',header=None)"
   ]
  },
  {
   "cell_type": "code",
   "execution_count": 85,
   "metadata": {},
   "outputs": [
    {
     "data": {
      "text/plain": [
       "(12, 1)"
      ]
     },
     "execution_count": 85,
     "metadata": {},
     "output_type": "execute_result"
    }
   ],
   "source": [
    "aa.values.shape"
   ]
  },
  {
   "cell_type": "code",
   "execution_count": 290,
   "metadata": {},
   "outputs": [
    {
     "data": {
      "text/plain": [
       "array([[ 0.24108004],\n",
       "       [-0.726002  ],\n",
       "       [ 2.65446583],\n",
       "       [-0.91061687],\n",
       "       [ 0.21938036],\n",
       "       [-0.3296636 ],\n",
       "       [-1.13865388],\n",
       "       [-0.55923544],\n",
       "       [ 1.48504823],\n",
       "       [-1.12967616]])"
      ]
     },
     "execution_count": 290,
     "metadata": {},
     "output_type": "execute_result"
    }
   ],
   "source": [
    "np.random.randn(10).reshape(10,1)"
   ]
  },
  {
   "cell_type": "code",
   "execution_count": 81,
   "metadata": {},
   "outputs": [
    {
     "data": {
      "text/plain": [
       "[27, 21, 29, 28, 29, 29, 29, 29, 27, 28, 27, 5, 2, 2, 2]"
      ]
     },
     "execution_count": 81,
     "metadata": {},
     "output_type": "execute_result"
    }
   ],
   "source": [
    "throughput_p812_1[1]"
   ]
  },
  {
   "cell_type": "code",
   "execution_count": 357,
   "metadata": {},
   "outputs": [
    {
     "name": "stdout",
     "output_type": "stream",
     "text": [
      "-0.151312129055\n",
      "0.0384010055172\n"
     ]
    }
   ],
   "source": [
    "from astropy.stats import bootstrap\n",
    "from astropy.utils import NumpyRNGContext\n",
    "\n",
    "test_statistic = lambda x: (np.mean(x), np.std(x))\n",
    "\n",
    "\n",
    "#bootarr = np.array([1, 2, 3, 4, 5, 6, 7, 8, 9, 0])\n",
    "\n",
    "#bootarr = np.asarray(throughput_p812_1[1]).reshape(15,1)\n",
    "\n",
    "el = 60\n",
    "bootarr = np.random.randn(el).reshape(el,1)\n",
    "\n",
    "#a = np.array([1, 2, 3, 4, 5, 6, 7, 8, 9, 0]).reshape(10,1)\n",
    "resamples = 16\n",
    "\n",
    "with NumpyRNGContext(1):\n",
    "    bootresult = bootstrap(bootarr, resamples)  #,bootfunc=test_statistic)\n",
    "\n",
    "#print bootresult\n",
    "\n",
    "bootresult.shape\n",
    "\n",
    "print np.mean(bootresult[0])\n",
    "print np.mean(bootresult[1])\n",
    "\n",
    "arr = bootresult.reshape(1,resamples*el)\n"
   ]
  },
  {
   "cell_type": "code",
   "execution_count": 358,
   "metadata": {},
   "outputs": [
    {
     "data": {
      "image/png": "[encoded data removed]",
      "text/plain": [
       "<matplotlib.figure.Figure at 0x7f5940043050>"
      ]
     },
     "metadata": {},
     "output_type": "display_data"
    }
   ],
   "source": [
    "a = plt.hist(arr.tolist(),bins=20)"
   ]
  },
  {
   "cell_type": "code",
   "execution_count": 117,
   "metadata": {},
   "outputs": [
    {
     "data": {
      "text/plain": [
       "4.5"
      ]
     },
     "execution_count": 117,
     "metadata": {},
     "output_type": "execute_result"
    }
   ],
   "source": [
    "a = np.array([1, 2, 3, 4, 5, 6, 7, 8, 9, 0])\n",
    "np.mean(a)"
   ]
  },
  {
   "cell_type": "code",
   "execution_count": 118,
   "metadata": {},
   "outputs": [
    {
     "data": {
      "text/plain": [
       "2.8722813232690143"
      ]
     },
     "execution_count": 118,
     "metadata": {},
     "output_type": "execute_result"
    }
   ],
   "source": [
    "np.std(a)"
   ]
  },
  {
   "cell_type": "code",
   "execution_count": 142,
   "metadata": {},
   "outputs": [
    {
     "data": {
      "text/plain": [
       "3.614206297412593"
      ]
     },
     "execution_count": 142,
     "metadata": {},
     "output_type": "execute_result"
    }
   ],
   "source": [
    "np.mean(bootresult)"
   ]
  },
  {
   "cell_type": "code",
   "execution_count": 143,
   "metadata": {},
   "outputs": [
    {
     "data": {
      "text/plain": [
       "4.5374999999999996"
      ]
     },
     "execution_count": 143,
     "metadata": {},
     "output_type": "execute_result"
    }
   ],
   "source": [
    "np.mean(bootresult[:,0])"
   ]
  },
  {
   "cell_type": "code",
   "execution_count": 144,
   "metadata": {},
   "outputs": [
    {
     "data": {
      "text/plain": [
       "2.6909125948251855"
      ]
     },
     "execution_count": 144,
     "metadata": {},
     "output_type": "execute_result"
    }
   ],
   "source": [
    "np.mean(bootresult[:,1])"
   ]
  },
  {
   "cell_type": "code",
   "execution_count": null,
   "metadata": {
    "collapsed": true
   },
   "outputs": [],
   "source": [
    "# The 68% confidence interval for a single draw from a normal distribution with mean mu and std deviation sigma is\n",
    "stats.norm.interval(0.68, loc=mu, scale=sigma)\n",
    "\n",
    "#The 68% confidence interval for the mean of N draws from a normal distribution with mean mu and std deviation sigma is\n",
    "stats.norm.interval(0.68, loc=mu, scale=sigma/sqrt(N))\n",
    "\n",
    "\n"
   ]
  },
  {
   "cell_type": "code",
   "execution_count": 158,
   "metadata": {},
   "outputs": [
    {
     "data": {
      "text/plain": [
       "array([ 22.1655321 ,  23.31816336,  22.73494326,  26.03367253])"
      ]
     },
     "execution_count": 158,
     "metadata": {},
     "output_type": "execute_result"
    }
   ],
   "source": [
    "ss.t.ppf(0.95, data_df)*data_sd"
   ]
  },
  {
   "cell_type": "code",
   "execution_count": 165,
   "metadata": {},
   "outputs": [
    {
     "data": {
      "text/plain": [
       "<Container object of 3 artists>"
      ]
     },
     "execution_count": 165,
     "metadata": {},
     "output_type": "execute_result"
    }
   ],
   "source": [
    "# including upper limits\n",
    "ax.errorbar(x, y + 0.5, xerr=xerr, yerr=yerr, uplims=uplims,\n",
    "            linestyle=ls)"
   ]
  },
  {
   "cell_type": "code",
   "execution_count": 201,
   "metadata": {},
   "outputs": [
    {
     "data": {
      "image/png": "[encoded data removed]",
      "text/plain": [
       "<matplotlib.figure.Figure at 0x7f5952e518d0>"
      ]
     },
     "metadata": {},
     "output_type": "display_data"
    }
   ],
   "source": [
    "import numpy as np\n",
    "import matplotlib.pyplot as plt\n",
    "\n",
    "# example data\n",
    "x = np.arange(0.1, 4, 0.5)\n",
    "y = np.exp(-x)\n",
    "\n",
    "# example error bar values that vary with x-position\n",
    "error = 0.1 + 0.2 * x\n",
    "\n",
    "fig, (ax0, ax1) = plt.subplots(nrows=2, sharex=True)\n",
    "ax0.errorbar(x, y, yerr=error, fmt='-o')\n",
    "ax0.set_title('variable, symmetric error')\n",
    "\n",
    "# error bar values w/ different -/+ errors that\n",
    "# also vary with the x-position\n",
    "lower_error = 0.4 * error\n",
    "upper_error = error\n",
    "asymmetric_error = [lower_error, upper_error]\n",
    "\n",
    "ax1.errorbar(x, y, xerr=asymmetric_error, fmt='o')\n",
    "ax1.set_title('variable, asymmetric error')\n",
    "ax1.set_yscale('log')"
   ]
  },
  {
   "cell_type": "code",
   "execution_count": 229,
   "metadata": {},
   "outputs": [
    {
     "data": {
      "text/plain": [
       "<matplotlib.text.Text at 0x7f59520b73d0>"
      ]
     },
     "execution_count": 229,
     "metadata": {},
     "output_type": "execute_result"
    },
    {
     "data": {
      "image/png": "[encoded data removed]",
      "text/plain": [
       "<matplotlib.figure.Figure at 0x7f59523b6bd0>"
      ]
     },
     "metadata": {},
     "output_type": "display_data"
    }
   ],
   "source": [
    "objects = ('Producer-8-1-2')\n",
    "x_pos = np.arange(len(objects))\n",
    "x_pos=1\n",
    "\n",
    "plt.bar(x_pos,avg_throughput_p_812,align='center',yerr=eeer)\n",
    "\n",
    "plt.title(\"Spark streaming k-means model\")"
   ]
  },
  {
   "cell_type": "code",
   "execution_count": 206,
   "metadata": {
    "collapsed": true
   },
   "outputs": [],
   "source": [
    "lower_error = 0.4 * error\n",
    "upper_error = error\n",
    "asymmetric_error = [lower_error, upper_error]"
   ]
  },
  {
   "cell_type": "code",
   "execution_count": 217,
   "metadata": {},
   "outputs": [
    {
     "data": {
      "text/plain": [
       "(8,)"
      ]
     },
     "execution_count": 217,
     "metadata": {},
     "output_type": "execute_result"
    }
   ],
   "source": [
    "asymmetric_error[1].shape"
   ]
  },
  {
   "cell_type": "code",
   "execution_count": 208,
   "metadata": {},
   "outputs": [
    {
     "data": {
      "text/plain": [
       "array([ 0.048,  0.088,  0.128,  0.168,  0.208,  0.248,  0.288,  0.328])"
      ]
     },
     "execution_count": 208,
     "metadata": {},
     "output_type": "execute_result"
    }
   ],
   "source": [
    "lower_error"
   ]
  },
  {
   "cell_type": "code",
   "execution_count": 213,
   "metadata": {},
   "outputs": [
    {
     "data": {
      "text/plain": [
       "array([ 0.12,  0.22,  0.32,  0.42,  0.52,  0.62,  0.72,  0.82])"
      ]
     },
     "execution_count": 213,
     "metadata": {},
     "output_type": "execute_result"
    }
   ],
   "source": [
    "error"
   ]
  },
  {
   "cell_type": "code",
   "execution_count": 225,
   "metadata": {
    "collapsed": true
   },
   "outputs": [],
   "source": [
    "lower_error = 4*np.array([1])"
   ]
  },
  {
   "cell_type": "code",
   "execution_count": 216,
   "metadata": {},
   "outputs": [
    {
     "data": {
      "text/plain": [
       "(1,)"
      ]
     },
     "execution_count": 216,
     "metadata": {},
     "output_type": "execute_result"
    }
   ],
   "source": [
    "lower_error.shape"
   ]
  },
  {
   "cell_type": "code",
   "execution_count": 226,
   "metadata": {
    "collapsed": true
   },
   "outputs": [],
   "source": [
    "upper_error = 2*np.array([1])"
   ]
  },
  {
   "cell_type": "code",
   "execution_count": 227,
   "metadata": {
    "collapsed": true
   },
   "outputs": [],
   "source": [
    "eeer = [lower_error,upper_error]"
   ]
  },
  {
   "cell_type": "code",
   "execution_count": 220,
   "metadata": {},
   "outputs": [
    {
     "data": {
      "text/plain": [
       "[array([ 0.4]), array([ 0.9])]"
      ]
     },
     "execution_count": 220,
     "metadata": {},
     "output_type": "execute_result"
    }
   ],
   "source": [
    "eeer"
   ]
  },
  {
   "cell_type": "code",
   "execution_count": null,
   "metadata": {
    "collapsed": true
   },
   "outputs": [],
   "source": []
  }
 ],
 "metadata": {
  "kernelspec": {
   "display_name": "Python [conda root]",
   "language": "python",
   "name": "conda-root-py"
  },
  "language_info": {
   "codemirror_mode": {
    "name": "ipython",
    "version": 2
   },
   "file_extension": ".py",
   "mimetype": "text/x-python",
   "name": "python",
   "nbconvert_exporter": "python",
   "pygments_lexer": "ipython2",
   "version": "2.7.13"
  }
 },
 "nbformat": 4,
 "nbformat_minor": 2
}
