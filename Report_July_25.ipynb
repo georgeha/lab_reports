{
 "cells": [
  {
   "cell_type": "code",
   "execution_count": 155,
   "metadata": {
    "collapsed": true
   },
   "outputs": [],
   "source": [
    "import pandas as pd\n",
    "pd.set_option('display.float_format', lambda x: '%.3f' % x)\n",
    "import numpy as np\n",
    "import matplotlib.pyplot as plt\n",
    "plt.style.use('ggplot')\n",
    "%matplotlib inline"
   ]
  },
  {
   "cell_type": "markdown",
   "metadata": {},
   "source": [
    "## Spark K-means"
   ]
  },
  {
   "cell_type": "markdown",
   "metadata": {},
   "source": [
    "throughput = lastReceivedBatch_records/ (lastReceivedBatch_processingEndTime-lastReceivedBatch_processingStartTime) <br>\n",
    "Parameters: Streaming window: 60 seconds, Number of cluster centroids, Number  of data points <br>"
   ]
  },
  {
   "cell_type": "code",
   "execution_count": 156,
   "metadata": {
    "collapsed": true
   },
   "outputs": [],
   "source": [
    "directory = '/home/georgeha/repos/midas_exps/streaming/k-means/2_run'\n",
    "lastReceivedBatch_processingEndTime_dir = '/app-20170629170818-0000.driver.PythonSparkStreamingKafkaKMeans.StreamingMetrics.streaming.lastReceivedBatch_processingEndTime.csv'\n",
    "lastReceivedBatch_processingStartTime_dir = '/app-20170629170818-0000.driver.PythonSparkStreamingKafkaKMeans.StreamingMetrics.streaming.lastReceivedBatch_processingStartTime.csv'\n",
    "lastReceivedBatch_records_dir = '/app-20170629170818-0000.driver.PythonSparkStreamingKafkaKMeans.StreamingMetrics.streaming.lastReceivedBatch_records.csv'\n",
    "\n",
    "lastReceivedBatch_processingEndTime  = pd.read_csv(directory + lastReceivedBatch_processingEndTime_dir ,skipinitialspace=True)\n",
    "lastReceivedBatch_processingStartTime = pd.read_csv(directory + lastReceivedBatch_processingStartTime_dir,skipinitialspace=True)\n",
    "lastReceivedBatch_records = pd.read_csv(directory + lastReceivedBatch_records_dir,skipinitialspace=True)"
   ]
  },
  {
   "cell_type": "code",
   "execution_count": 157,
   "metadata": {
    "collapsed": false
   },
   "outputs": [],
   "source": [
    "throughput = 1000*lastReceivedBatch_records/(lastReceivedBatch_processingEndTime-lastReceivedBatch_processingStartTime)\n",
    "throughput = throughput['value']\n",
    "throughput = throughput.tolist()\n",
    "for i in xrange(len(throughput)):\n",
    "    if throughput[i]<0:\n",
    "        throughput[i]=0\n",
    "# start_time1498774108 \n",
    "\n"
   ]
  },
  {
   "cell_type": "code",
   "execution_count": 158,
   "metadata": {
    "collapsed": false
   },
   "outputs": [
    {
     "data": {
      "text/plain": [
       "<matplotlib.text.Text at 0x7fc7709553d0>"
      ]
     },
     "execution_count": 158,
     "metadata": {},
     "output_type": "execute_result"
    },
    {
     "data": {
      "image/png": "[encoded data removed]",
      "text/plain": [
       "<matplotlib.figure.Figure at 0x7fc770a26d10>"
      ]
     },
     "metadata": {},
     "output_type": "display_data"
    }
   ],
   "source": [
    "x_values = lastReceivedBatch_records\n",
    "x_values = x_values['t']\n",
    "x_values = x_values.tolist()\n",
    "shift_time = 1498774148\n",
    "\n",
    "for i in xrange(len(x_values)):\n",
    "    x_values[i] = x_values[i] - 1498774108\n",
    "\n",
    "#plt.xticks()\n",
    "plt.xlim(0,800)\n",
    "plt.plot(x_values,throughput,'*')\n",
    "plt.ylabel('Throughput (in Records/secs)')\n",
    "plt.xlabel('Time ( in sec)')\n",
    "#plt.title('window:60 sec - msg size: 5000pts - total workload: 1mil pts')\n",
    "plt.title(\"throughput\")\n",
    "plt.figtext(0,-0.08,'window:60 sec - msg size: 5000pts - total workload: 1mil pts')"
   ]
  },
  {
   "cell_type": "code",
   "execution_count": 159,
   "metadata": {
    "collapsed": false
   },
   "outputs": [
    {
     "data": {
      "text/plain": [
       "0               0.000\n",
       "1               0.000\n",
       "2               0.000\n",
       "3               0.000\n",
       "4               4.338\n",
       "5               4.338\n",
       "6               4.338\n",
       "7               4.338\n",
       "8               4.338\n",
       "9               4.338\n",
       "10    -1498774203.565\n",
       "11              9.332\n",
       "12              9.332\n",
       "13              9.332\n",
       "14              9.332\n",
       "15              9.332\n",
       "16    -1498774263.404\n",
       "17              8.685\n",
       "18              8.685\n",
       "19              8.685\n",
       "20              8.685\n",
       "21              8.685\n",
       "22    -1498774323.063\n",
       "23              7.858\n",
       "24              7.858\n",
       "25              7.858\n",
       "26              7.858\n",
       "27              7.858\n",
       "28    -1498774383.476\n",
       "29              8.742\n",
       "            ...      \n",
       "81              0.900\n",
       "82              0.895\n",
       "83              0.895\n",
       "84              0.895\n",
       "85              0.895\n",
       "86              0.895\n",
       "87              0.895\n",
       "88              0.910\n",
       "89              0.910\n",
       "90              0.910\n",
       "91              0.910\n",
       "92              0.910\n",
       "93              0.910\n",
       "94              0.874\n",
       "95              0.874\n",
       "96              0.874\n",
       "97              0.874\n",
       "98              0.874\n",
       "99              0.874\n",
       "100             0.879\n",
       "101             0.879\n",
       "102             0.879\n",
       "103             0.879\n",
       "104             0.879\n",
       "105             0.879\n",
       "106             0.916\n",
       "107             0.916\n",
       "108             0.916\n",
       "109             0.916\n",
       "110             0.916\n",
       "Name: value, dtype: float64"
      ]
     },
     "execution_count": 159,
     "metadata": {},
     "output_type": "execute_result"
    }
   ],
   "source": [
    "(lastReceivedBatch_processingEndTime-lastReceivedBatch_processingStartTime)['value']/1000"
   ]
  },
  {
   "cell_type": "code",
   "execution_count": 160,
   "metadata": {
    "collapsed": false
   },
   "outputs": [
    {
     "data": {
      "text/plain": [
       "[0,\n",
       " 0,\n",
       " 0,\n",
       " 0,\n",
       " 81,\n",
       " 81,\n",
       " 81,\n",
       " 81,\n",
       " 81,\n",
       " 81,\n",
       " 200,\n",
       " 200,\n",
       " 200,\n",
       " 200,\n",
       " 200,\n",
       " 200,\n",
       " 200,\n",
       " 200,\n",
       " 200,\n",
       " 200,\n",
       " 200,\n",
       " 200,\n",
       " 200,\n",
       " 200,\n",
       " 200,\n",
       " 200,\n",
       " 200,\n",
       " 200,\n",
       " 200,\n",
       " 200,\n",
       " 200,\n",
       " 200,\n",
       " 200,\n",
       " 200,\n",
       " 200,\n",
       " 200,\n",
       " 200,\n",
       " 200,\n",
       " 200,\n",
       " 200,\n",
       " 200,\n",
       " 200,\n",
       " 200,\n",
       " 200,\n",
       " 200,\n",
       " 200,\n",
       " 94,\n",
       " 94,\n",
       " 94,\n",
       " 94,\n",
       " 94,\n",
       " 94,\n",
       " 106,\n",
       " 106,\n",
       " 106,\n",
       " 106,\n",
       " 106,\n",
       " 106,\n",
       " 200,\n",
       " 200,\n",
       " 200,\n",
       " 200,\n",
       " 200,\n",
       " 200,\n",
       " 200,\n",
       " 200,\n",
       " 200,\n",
       " 200,\n",
       " 200,\n",
       " 200,\n",
       " 0,\n",
       " 0,\n",
       " 0,\n",
       " 0,\n",
       " 0,\n",
       " 0,\n",
       " 0,\n",
       " 0,\n",
       " 0,\n",
       " 0,\n",
       " 0,\n",
       " 0,\n",
       " 0,\n",
       " 0,\n",
       " 0,\n",
       " 0,\n",
       " 0,\n",
       " 0,\n",
       " 0,\n",
       " 0,\n",
       " 0,\n",
       " 0,\n",
       " 0,\n",
       " 0,\n",
       " 0,\n",
       " 0,\n",
       " 0,\n",
       " 0,\n",
       " 0,\n",
       " 0,\n",
       " 0,\n",
       " 0,\n",
       " 0,\n",
       " 0,\n",
       " 0,\n",
       " 0,\n",
       " 0,\n",
       " 0,\n",
       " 0,\n",
       " 0,\n",
       " 0]"
      ]
     },
     "execution_count": 160,
     "metadata": {},
     "output_type": "execute_result"
    }
   ],
   "source": [
    "lastReceivedBatch_records['value'].tolist()"
   ]
  },
  {
   "cell_type": "markdown",
   "metadata": {
    "collapsed": true
   },
   "source": [
    "### Latency"
   ]
  },
  {
   "cell_type": "code",
   "execution_count": 165,
   "metadata": {
    "collapsed": false
   },
   "outputs": [
    {
     "data": {
      "text/plain": [
       "0   6.012\n",
       "1   6.015\n",
       "2   6.015\n",
       "3   6.015\n",
       "4   6.015\n",
       "Name: Latency, dtype: float64"
      ]
     },
     "execution_count": 165,
     "metadata": {},
     "output_type": "execute_result"
    }
   ],
   "source": [
    "directory = '/home/georgeha/repos/midas_exps/streaming/latency/1_broker/1_broker_killed_latency'\n",
    "aname = '/kafka-latency.csv'\n",
    "latency_saturated_data  = pd.read_csv(directory + aname ,skipinitialspace=True)\n",
    "published_times = latency_saturated_data['Start_time']\n",
    "latency_saturated_data = latency_saturated_data['Latency']\n",
    "latency_saturated_data.head()"
   ]
  },
  {
   "cell_type": "code",
   "execution_count": 170,
   "metadata": {
    "collapsed": true
   },
   "outputs": [],
   "source": [
    "import time, dateutil\n",
    "saturated_date_times = []\n",
    "for cur_time in published_times:\n",
    "    cur_time = cur_time.split('T')[1]\n",
    "    cur_time = dateutil.parser.parse(cur_time)\n",
    "    miliseconds = cur_time.microsecond/1000000.0\n",
    "    saturated_date_times.append(time.mktime(cur_time.timetuple()) + miliseconds- 1498603485-167578- 2419200-86400)"
   ]
  },
  {
   "cell_type": "code",
   "execution_count": 173,
   "metadata": {
    "collapsed": false
   },
   "outputs": [
    {
     "data": {
      "text/plain": [
       "<matplotlib.text.Text at 0x7fc771e8ecd0>"
      ]
     },
     "execution_count": 173,
     "metadata": {},
     "output_type": "execute_result"
    },
    {
     "data": {
      "image/png": "[encoded data removed]",
      "text/plain": [
       "<matplotlib.figure.Figure at 0x7fc7708a1dd0>"
      ]
     },
     "metadata": {},
     "output_type": "display_data"
    }
   ],
   "source": [
    "#x = np.linspace(0,adata.count(),adata.count())\n",
    "plt.xlim(0,100)\n",
    "#plt.xticks()\n",
    "plt.plot(saturated_date_times,latency_saturated_data.tolist())\n",
    "plt.ylabel('Latency (in secs)')\n",
    "plt.xlabel('Published Times ( in sec)')"
   ]
  },
  {
   "cell_type": "markdown",
   "metadata": {},
   "source": [
    "The spike appears 3663 Messages. Each message is : 58 mb which is 10.000 points <br>\n",
    "Therefore, after 3663*30000 = 107GB\n",
    "wrangler has 107GB free\n",
    "\n",
    "The nose of the spike is at : 4396 messages, which is:  <br>\n",
    "4396*30000 = 128GB \n",
    "and then the latency start decreasing\n",
    "\n"
   ]
  },
  {
   "cell_type": "code",
   "execution_count": null,
   "metadata": {
    "collapsed": true
   },
   "outputs": [],
   "source": []
  }
 ],
 "metadata": {
  "anaconda-cloud": {},
  "kernelspec": {
   "display_name": "Python [conda root]",
   "language": "python",
   "name": "conda-root-py"
  },
  "language_info": {
   "codemirror_mode": {
    "name": "ipython",
    "version": 2
   },
   "file_extension": ".py",
   "mimetype": "text/x-python",
   "name": "python",
   "nbconvert_exporter": "python",
   "pygments_lexer": "ipython2",
   "version": "2.7.12"
  }
 },
 "nbformat": 4,
 "nbformat_minor": 1
}
